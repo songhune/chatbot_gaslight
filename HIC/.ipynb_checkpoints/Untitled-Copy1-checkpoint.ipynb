{
 "cells": [
  {
   "cell_type": "code",
   "execution_count": 8,
   "id": "af5c798a-4c73-4896-b601-8e29b3d690ff",
   "metadata": {
    "tags": []
   },
   "outputs": [],
   "source": [
    "# 대화 내용을 리스트로 정의합니다.\n",
    "dialogues = [\n",
    "    {\"A\": \"안녕, 오늘 기분 어때?\", \"B\": \"난 기분이 좋아.\"},\n",
    "    {\"A\": \"그래? 나도 기쁘다. 무엇을 하고 싶어?\", \"B\": \"산책 가고 싶어.\"},\n",
    "    {\"A\": \"좋아, 날씨도 좋으니 같이 가자.\", \"B\": \"정말 좋겠다. 감사해.\"}\n",
    "]\n",
    "\n",
    "# 대화를 진행하는 함수입니다.\n",
    "def conduct_dialogue(dialogues):\n",
    "    for dialogue in dialogues:\n",
    "        print(f\"A: {dialogue['A']}\")\n",
    "        print(f\"B: {dialogue['B']}\")\n",
    "        b_says = input(\"B의 내용을 타이핑해 주세요: \")\n",
    "        \n",
    "        # B가 정확히 말한 내용을 따라쳤는지 확인합니다.\n",
    "        while b_says != dialogue[\"B\"]:\n",
    "            print(\"잘못 입력했습니다. B가 말한 것을 정확히 따라 쳐야 합니다.\")\n",
    "            b_says = input(\"B(따라 쳐야 함): \")\n",
    "        \n",
    "        print(f\"B: {dialogue['B']}\")  # 올바르게 입력된 경우, 대화를 계속 진행합니다.\n"
   ]
  },
  {
   "cell_type": "code",
   "execution_count": null,
   "id": "4c59dfbc-0796-43e7-a920-5548c790891a",
   "metadata": {
    "tags": []
   },
   "outputs": [
    {
     "name": "stdout",
     "output_type": "stream",
     "text": [
      "A: 안녕, 오늘 기분 어때?\n",
      "B: 난 기분이 좋아.\n"
     ]
    }
   ],
   "source": [
    "conduct_dialogue(dialogues)"
   ]
  },
  {
   "cell_type": "code",
   "execution_count": null,
   "id": "21f4cbab-4455-4350-a7a0-10163ddda201",
   "metadata": {},
   "outputs": [],
   "source": []
  }
 ],
 "metadata": {
  "kernelspec": {
   "display_name": "Python 3 (ipykernel)",
   "language": "python",
   "name": "python3"
  },
  "language_info": {
   "codemirror_mode": {
    "name": "ipython",
    "version": 3
   },
   "file_extension": ".py",
   "mimetype": "text/x-python",
   "name": "python",
   "nbconvert_exporter": "python",
   "pygments_lexer": "ipython3",
   "version": "3.7.9"
  }
 },
 "nbformat": 4,
 "nbformat_minor": 5
}
