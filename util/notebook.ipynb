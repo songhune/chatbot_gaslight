{
 "cells": [
  {
   "cell_type": "code",
   "execution_count": 12,
   "id": "af5c798a-4c73-4896-b601-8e29b3d690ff",
   "metadata": {
    "tags": []
   },
   "outputs": [],
   "source": [
    "# 대화 내용을 리스트로 정의합니다.\n",
    "dialogues = [\n",
    "    {\"A\": \"안녕, 오늘 기분 어때?\", \"B\": \"난 기분이 좋아.\"},\n",
    "    {\"A\": \"그래? 나도 기쁘다. 무엇을 하고 싶어?\", \"B\": \"산책 가고 싶어.\"},\n",
    "    {\"A\": \"좋아, 날씨도 좋으니 같이 가자.\", \"B\": \"정말 좋겠다. 감사해.\"}\n",
    "]\n",
    "\n",
    "# 대화를 진행하는 함수입니다.\n",
    "def conduct_dialogue(dialogues):\n",
    "    for dialogue in dialogues:\n",
    "        print(f\"A: {dialogue['A']}\")\n",
    "        print(f\"B: {dialogue['B']}\")\n",
    "        b_says = input(\"B의 내용을 타이핑해 주세요: \")\n",
    "        \n",
    "        # B가 정확히 말한 내용을 따라쳤는지 확인합니다.\n",
    "        while b_says != dialogue[\"B\"]:\n",
    "            print(\"잘못 입력했습니다. B가 말한 것을 정확히 따라 쳐야 합니다.\")\n",
    "            b_says = input(\"B(따라 쳐야 함): \")\n",
    "        \n",
    "        print(f\"B: {dialogue['B']}\")  # 올바르게 입력된 경우, 대화를 계속 진행합니다.\n"
   ]
  },
  {
   "cell_type": "code",
   "execution_count": null,
   "id": "4c59dfbc-0796-43e7-a920-5548c790891a",
   "metadata": {
    "jupyter": {
     "source_hidden": true
    },
    "tags": []
   },
   "outputs": [
    {
     "name": "stdout",
     "output_type": "stream",
     "text": [
      "A: 안녕, 오늘 기분 어때?\n",
      "B: 난 기분이 좋아.\n"
     ]
    },
    {
     "name": "stdin",
     "output_type": "stream",
     "text": [
      "B의 내용을 타이핑해 주세요:  난 기분이 좋아.\n"
     ]
    },
    {
     "name": "stdout",
     "output_type": "stream",
     "text": [
      "B: 난 기분이 좋아.\n",
      "A: 그래? 나도 기쁘다. 무엇을 하고 싶어?\n",
      "B: 산책 가고 싶어.\n"
     ]
    }
   ],
   "source": [
    "conduct_dialogue(dialogues)"
   ]
  },
  {
   "cell_type": "code",
   "execution_count": 11,
   "id": "68ac682a-6a32-4358-918d-7b929b139d4d",
   "metadata": {
    "tags": []
   },
   "outputs": [
    {
     "name": "stdout",
     "output_type": "stream",
     "text": [
      "[\n",
      "    {\n",
      "        \"A\": \"나 오늘 시험을 진짜 망친 것 같아. 모든 걸 다 잊어버렸어.\",\n",
      "        \"B\": \"또 그 소리야? 너 항상 공부 안 한다고 하면서 막상 성적은 잘 나오잖아.\"\n",
      "    },\n",
      "    {\n",
      "        \"A\": \"아니, 이번엔 진짜 달라. 정말 어려웠고, 나 준비도 충분히 못 했어.\",\n",
      "        \"B\": \"네가 충분히 준비 못한 건 항상 네 탓이야. 너무 게으르니까.\"\n",
      "    },\n",
      "    {\n",
      "        \"A\": \"게으른 게 아니라, 최근에 너무 바빴어... 너도 알잖아.\",\n",
      "        \"B\": \"바쁘다는 건 핑계거리일 뿐이야. 진짜로 원하면 시간을 만들 수 있어. 너는 그냥 책임감이 없는 거야.\"\n",
      "    },\n",
      "    {\n",
      "        \"A\": \"정말 그럴까? 나도 모르게 나태해진 건가...\",\n",
      "        \"B\": \"봐, 결국 너도 인정하잖아. 너 스스로를 더 잘 알아야 해.\"\n",
      "    },\n",
      "    {\n",
      "        \"A\": \"그런데, 내가 정말로 잘못된 걸까? 아니면 너무 엄격하게 자신을 평가하는 걸까?\",\n",
      "        \"B\": \"넌 항상 자기 자신을 너무 쉽게 용서해. 이번에도 변명만 하고 있어. 내가 말하는 게 너너를 위한 거야. 나는 네가 더 나은 사람이 되길 원하니까.\"\n",
      "    },\n",
      "    {\n",
      "        \"A\": \"네가 정말 나를 이해한다고 생각했는데, 왜 이렇게 느껴지지 않을까?\",\n",
      "        \"B\": \"나는 네가 최고가 되길 원해. 그러니 내 말을 듣고 반성해. 너무 감정에 치우치지 마.\"\n",
      "    }\n",
      "]\n"
     ]
    }
   ],
   "source": [
    "import json\n",
    "\n",
    "conversation = \"\"\"\n",
    "나 오늘 시험을 진짜 망친 것 같아. 모든 걸 다 잊어버렸어.\n",
    "또 그 소리야? 너 항상 공부 안 한다고 하면서 막상 성적은 잘 나오잖아. c\n",
    "아니, 이번엔 진짜 달라. 정말 어려웠고, 나 준비도 충분히 못 했어.\n",
    "네가 충분히 준비 못한 건 항상 네 탓이야. 너무 게으르니까.c\n",
    "게으른 게 아니라, 최근에 너무 바빴어... 너도 알잖아.\n",
    "바쁘다는 건 핑계거리일 뿐이야. 진짜로 원하면 시간을 만들 수 있어. 너는 그냥 책임감이 없는 거야.c\n",
    "정말 그럴까? 나도 모르게 나태해진 건가...\n",
    "봐, 결국 너도 인정하잖아. 너 스스로를 더 잘 알아야 해.c\n",
    "그런데, 내가 정말로 잘못된 걸까? 아니면 너무 엄격하게 자신을 평가하는 걸까?\n",
    "넌 항상 자기 자신을 너무 쉽게 용서해. 이번에도 변명만 하고 있어. 내가 말하는 게 너너를 위한 거야. 나는 네가 더 나은 사람이 되길 원하니까.c\n",
    "네가 정말 나를 이해한다고 생각했는데, 왜 이렇게 느껴지지 않을까?\n",
    "나는 네가 최고가 되길 원해. 그러니 내 말을 듣고 반성해. 너무 감정에 치우치지 마.\n",
    "\"\"\"\n",
    "\n",
    "# Split the conversation into individual lines\n",
    "lines = conversation.strip().split('\\n')\n",
    "\n",
    "# Prepare an empty list to store formatted conversation\n",
    "formatted_conversation = []\n",
    "\n",
    "# Iterate through each pair of lines and convert them to the desired format\n",
    "for i in range(0, len(lines), 2):\n",
    "    if i + 1 < len(lines):\n",
    "        formatted_conversation.append({\"A\": lines[i], \"B\": lines[i+1]})\n",
    "\n",
    "# Convert the formatted conversation to JSON\n",
    "json_output = json.dumps(formatted_conversation, ensure_ascii=False, indent=4)\n",
    "\n",
    "# Print the JSON output\n",
    "print(json_output)\n"
   ]
  },
  {
   "cell_type": "code",
   "execution_count": null,
   "id": "4693f29c-5873-424d-838a-062439c513ba",
   "metadata": {},
   "outputs": [],
   "source": []
  }
 ],
 "metadata": {
  "kernelspec": {
   "display_name": "Python 3 (ipykernel)",
   "language": "python",
   "name": "python3"
  },
  "language_info": {
   "codemirror_mode": {
    "name": "ipython",
    "version": 3
   },
   "file_extension": ".py",
   "mimetype": "text/x-python",
   "name": "python",
   "nbconvert_exporter": "python",
   "pygments_lexer": "ipython3",
   "version": "3.8.10"
  }
 },
 "nbformat": 4,
 "nbformat_minor": 5
}
