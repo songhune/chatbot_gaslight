{
 "cells": [
  {
   "cell_type": "code",
   "execution_count": 6,
   "id": "af5c798a-4c73-4896-b601-8e29b3d690ff",
   "metadata": {
    "tags": []
   },
   "outputs": [
    {
     "name": "stderr",
     "output_type": "stream",
     "text": [
      "C:\\Users\\songh\\AppData\\Local\\Temp\\ipykernel_12408\\2544641865.py:14: FutureWarning: Passing literal json to 'read_json' is deprecated and will be removed in a future version. To read from a literal string, wrap it in a 'StringIO' object.\n",
      "  df = pd.read_json(json_data)\n",
      "C:\\Users\\songh\\AppData\\Local\\Temp\\ipykernel_12408\\2544641865.py:14: FutureWarning: Passing literal json to 'read_json' is deprecated and will be removed in a future version. To read from a literal string, wrap it in a 'StringIO' object.\n",
      "  df = pd.read_json(json_data)\n",
      "C:\\Users\\songh\\AppData\\Local\\Temp\\ipykernel_12408\\2544641865.py:14: FutureWarning: Passing literal json to 'read_json' is deprecated and will be removed in a future version. To read from a literal string, wrap it in a 'StringIO' object.\n",
      "  df = pd.read_json(json_data)\n"
     ]
    }
   ],
   "source": [
    "import glob\n",
    "import pandas as pd\n",
    "\n",
    "# Get a list of all JSON files in the directory\n",
    "json_files = glob.glob('C:\\Workspace\\chatbot_gaslight\\logs\\*.json')\n",
    "\n",
    "# Loop through each JSON file\n",
    "for file in json_files:\n",
    "    # Read the JSON file\n",
    "    with open(file, 'r', encoding='utf-8') as f:\n",
    "        json_data = f.read()\n",
    "\n",
    "    # Convert JSON to DataFrame\n",
    "    df = pd.read_json(json_data)\n",
    "\n",
    "    # Get the file name without the extension\n",
    "    csv_file = file[:-5] + '.csv'\n",
    "\n",
    "    # Save the DataFrame as a CSV file\n",
    "    df.to_csv(csv_file, index=False)\n"
   ]
  },
  {
   "cell_type": "code",
   "execution_count": null,
   "id": "4693f29c-5873-424d-838a-062439c513ba",
   "metadata": {},
   "outputs": [],
   "source": []
  }
 ],
 "metadata": {
  "kernelspec": {
   "display_name": "Python 3 (ipykernel)",
   "language": "python",
   "name": "python3"
  },
  "language_info": {
   "codemirror_mode": {
    "name": "ipython",
    "version": 3
   },
   "file_extension": ".py",
   "mimetype": "text/x-python",
   "name": "python",
   "nbconvert_exporter": "python",
   "pygments_lexer": "ipython3",
   "version": "3.9.13"
  }
 },
 "nbformat": 4,
 "nbformat_minor": 5
}
